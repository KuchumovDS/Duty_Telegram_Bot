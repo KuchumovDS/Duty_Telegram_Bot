{
 "cells": [
  {
   "cell_type": "code",
   "execution_count": 9,
   "metadata": {},
   "outputs": [
    {
     "data": {
      "text/plain": [
       "0      \n",
       "1      \n",
       "2      \n",
       "3     X\n",
       "4      \n",
       "5      \n",
       "6      \n",
       "7      \n",
       "8      \n",
       "9      \n",
       "10     \n",
       "11     \n",
       "12     \n",
       "13     \n",
       "14     \n",
       "15     \n",
       "16     \n",
       "Name: 26, dtype: object"
      ]
     },
     "execution_count": 9,
     "metadata": {},
     "output_type": "execute_result"
    }
   ],
   "source": [
    "import pandas as pd\n",
    "unix_schedule_csv= pd.read_csv(\"unix_schedule.csv\")\n",
    "#print(unix_schedule_csv)\n",
    "#filter = unix_schedule_csv['20'] == 'X'\n",
    "#unix_schedule_csv.loc[filter]\n",
    "#unix_schedule_csv['20']\n",
    "bb = 26\n",
    "unix_schedule_csv[f'{bb}']\n",
    "#unix_schedule_csv1=unix_schedule_csv.loc[unix_schedule_csv['26']=='X',['ФИО']].to_string(index = False, header = False)\n",
    "#unix_schedule_csv1"
   ]
  }
 ],
 "metadata": {
  "interpreter": {
   "hash": "d4675d8acc35d90fef7531039e9326b0ad4562afe510f18e9ce024ce875eb7b5"
  },
  "kernelspec": {
   "display_name": "Python 3.10.2 64-bit",
   "language": "python",
   "name": "python3"
  },
  "language_info": {
   "codemirror_mode": {
    "name": "ipython",
    "version": 3
   },
   "file_extension": ".py",
   "mimetype": "text/x-python",
   "name": "python",
   "nbconvert_exporter": "python",
   "pygments_lexer": "ipython3",
   "version": "3.10.2"
  },
  "orig_nbformat": 4
 },
 "nbformat": 4,
 "nbformat_minor": 2
}
